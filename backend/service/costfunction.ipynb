{
 "cells": [
  {
   "cell_type": "code",
   "execution_count": 2,
   "metadata": {},
   "outputs": [],
   "source": [
    "import pandas as pd\n",
    "import numpy as np\n",
    "import matplotlib.pyplot as plt\n",
    "from scipy.optimize import curve_fit\n",
    "\n",
    "class CostFunction:\n",
    "    def __init__(self):\n",
    "        self.data = pd.read_csv('../ml/cost_to_throughput.csv', index_col=0)\n",
    "        \n",
    "\n",
    "    def get_function(self):\n",
    "        def logarithmic_function(x, a, b):\n",
    "            return a * np.log(x) + b\n",
    "        \n",
    "        params, covariance = curve_fit(logarithmic_function, self.data['Operational Cost'], self.data['Throughput'])\n",
    "        a,b = params\n",
    "\n",
    "        return a,b\n",
    "\n",
    "cf = CostFunction()\n",
    "a,b = cf.get_function()"
   ]
  }
 ],
 "metadata": {
  "kernelspec": {
   "display_name": "Python 3",
   "language": "python",
   "name": "python3"
  },
  "language_info": {
   "codemirror_mode": {
    "name": "ipython",
    "version": 3
   },
   "file_extension": ".py",
   "mimetype": "text/x-python",
   "name": "python",
   "nbconvert_exporter": "python",
   "pygments_lexer": "ipython3",
   "version": "3.9.9"
  },
  "orig_nbformat": 4
 },
 "nbformat": 4,
 "nbformat_minor": 2
}
